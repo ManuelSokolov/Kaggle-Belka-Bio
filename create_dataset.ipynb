{
 "cells": [
  {
   "cell_type": "markdown",
   "id": "1ad0993f-ae73-4852-b7cb-16b5174d3e68",
   "metadata": {
    "tags": []
   },
   "source": [
    "# Pre-processing: undersample of negatives and building block split\n"
   ]
  },
  {
   "cell_type": "code",
   "execution_count": null,
   "id": "7def7017-65c1-4684-9a87-525c5a441ccc",
   "metadata": {
    "tags": []
   },
   "outputs": [],
   "source": [
    "import os\n",
    "import random\n",
    "from random import sample\n",
    "\n",
    "import polars as pl\n",
    "import polars.selectors as cs"
   ]
  },
  {
   "cell_type": "code",
   "execution_count": null,
   "id": "514a017d-9cca-408d-93a4-e9d8801e40cc",
   "metadata": {
    "tags": []
   },
   "outputs": [],
   "source": [
    "data_path = \"/home/ec2-user/SageMaker/dataset/\"\n",
    "data_set = pl.scan_parquet(os.path.join(data_path, \"train.parquet\"))\n",
    "data_set.explain(streaming=True)\n",
    "unique_protein_names = data_set.select(\"protein_name\").unique().collect()"
   ]
  },
  {
   "cell_type": "markdown",
   "id": "0f1e65fc-b5d4-47e2-b368-b6eb6dd0bcac",
   "metadata": {
    "tags": []
   },
   "source": [
    "## Sample dataset per protein, negatives 5 times positives\n"
   ]
  },
  {
   "cell_type": "code",
   "execution_count": null,
   "id": "5210f2cc-4475-4c8b-a8e7-d3554a2949db",
   "metadata": {
    "tags": []
   },
   "outputs": [],
   "source": [
    "for protein in list(unique_protein_names[\"protein_name\"]):\n",
    "    print(f\"Processing protein {protein}\")\n",
    "    protein_data = data_set.filter(pl.col(\"protein_name\") == protein)\n",
    "    positive_data = protein_data.filter(pl.col(\"binds\") == 1)\n",
    "    negative_data = protein_data.filter(pl.col(\"binds\") == 0)\n",
    "    positive_count = positive_data.select(pl.len()).collect()\n",
    "    negative_data_sampled = negative_data.collect().sample(\n",
    "        n=positive_count.item() * 5\n",
    "    )  # 5x more negatives than positives\n",
    "    combined_data = pl.concat([positive_data.collect(), negative_data_sampled])\n",
    "    output_path = os.path.join(data_path, f\"{protein}.parquet\")\n",
    "    combined_data.write_parquet(output_path)"
   ]
  },
  {
   "cell_type": "markdown",
   "id": "57119a46-3cf7-40b9-8865-d7f5eeec7408",
   "metadata": {
    "tags": []
   },
   "source": [
    "## Concatenate dataframes per protein into a big train dataframe\n"
   ]
  },
  {
   "cell_type": "code",
   "execution_count": null,
   "id": "0a57ad39-fec3-4a35-8755-fa5e88a1c2a9",
   "metadata": {
    "tags": []
   },
   "outputs": [],
   "source": [
    "seh_data = pl.scan_parquet(os.path.join(data_path, \"seh.parquet\"))\n",
    "hsa_data = pl.scan_parquet(os.path.join(data_path, \"hsa.parquet\"))\n",
    "brda_data = pl.scan_parquet(os.path.join(data_path, \"brda.parquet\"))\n",
    "combined_data = pl.concat([seh_data.collect(), hsa_data.collect(), brda_data.collect()])"
   ]
  },
  {
   "cell_type": "markdown",
   "id": "4c1ff48b-fded-4794-be3c-7ecc8aa4b5f4",
   "metadata": {
    "tags": []
   },
   "source": [
    "## One hot encode protein name\n"
   ]
  },
  {
   "cell_type": "code",
   "execution_count": null,
   "id": "b13f9bc1-af64-4f5f-9e7b-7d722e39165e",
   "metadata": {
    "tags": []
   },
   "outputs": [],
   "source": [
    "combined_data = combined_data.to_dummies(\"protein_name\")\n",
    "output_path = os.path.join(data_path, \"train_subsampled.parquet\")\n",
    "combined_data.write_parquet(output_path)\n",
    "print(combined_data)"
   ]
  },
  {
   "cell_type": "markdown",
   "id": "d9bc16da-1250-49bc-84f0-f64636939d56",
   "metadata": {
    "tags": []
   },
   "source": [
    "# Create validation based on building block split\n"
   ]
  },
  {
   "cell_type": "code",
   "execution_count": null,
   "id": "f5a9930c",
   "metadata": {
    "tags": []
   },
   "outputs": [],
   "source": [
    "train_subsampled = pl.scan_parquet(\n",
    "    os.path.join(data_path, \"train_subsampled.parquet\")\n",
    ").collect()"
   ]
  },
  {
   "cell_type": "code",
   "execution_count": null,
   "id": "f2a69d35-3531-4586-803d-eedfa393dbf3",
   "metadata": {
    "tags": []
   },
   "outputs": [],
   "source": [
    "# Get unique building blocks\n",
    "unique_smiles = set(\n",
    "    train_subsampled[\"buildingblock1_smiles\"].to_list()\n",
    "    + train_subsampled[\"buildingblock2_smiles\"].to_list()\n",
    "    + train_subsampled[\"buildingblock3_smiles\"].to_list()\n",
    ")\n",
    "\n",
    "# Sample 10% of the codes for validation\n",
    "total_bbs = len(list(unique_smiles))\n",
    "train_size = int(total_bbs * 0.90)\n",
    "\n",
    "train_bbs = random.sample(list(unique_smiles), train_size)\n",
    "test_bbs = list(unique_smiles - set(train_bbs))\n",
    "\n",
    "print(\"Train set size:\", len(train_bbs))\n",
    "print(\"Test set size:\", len(test_bbs))\n",
    "\n",
    "# Assign samples to validation if they have bbs from validation\n",
    "train_subsampled = train_subsampled.with_columns(\n",
    "    pl.any_horizontal(cs.contains(\"buildingblock\").is_in(set(test_bbs))).alias(\"val\")\n",
    ")"
   ]
  },
  {
   "cell_type": "code",
   "execution_count": null,
   "id": "239eafc9-d620-4313-843b-8247d7244780",
   "metadata": {
    "tags": []
   },
   "outputs": [],
   "source": [
    "train_val_counts = train_subsampled[\"val\"].value_counts()\n",
    "val_proportions = train_val_counts[\"count\"] / len(train_subsampled[\"val\"])\n",
    "print(val_proportions)"
   ]
  },
  {
   "cell_type": "code",
   "execution_count": null,
   "id": "984bb33c-b605-4789-aeff-40b5d1740cc5",
   "metadata": {
    "tags": []
   },
   "outputs": [],
   "source": [
    "val_df = train_subsampled.filter(train_subsampled[\"val\"])\n",
    "train_df = train_subsampled.filter(~train_subsampled[\"val\"])"
   ]
  },
  {
   "cell_type": "code",
   "execution_count": null,
   "id": "57d51621-1ab9-4e64-8972-e36584df9938",
   "metadata": {
    "tags": []
   },
   "outputs": [],
   "source": [
    "output_path = os.path.join(data_path, \"train_subsampled_bb_split.parquet\")\n",
    "train_df.write_parquet(output_path)"
   ]
  },
  {
   "cell_type": "code",
   "execution_count": null,
   "id": "18ce2dbb-4df2-4d98-bf36-6abcc037bfe5",
   "metadata": {
    "tags": []
   },
   "outputs": [],
   "source": [
    "output_path = os.path.join(data_path, \"val_subsampled_bb_split.parquet\")\n",
    "val_df.write_parquet(output_path)"
   ]
  }
 ],
 "metadata": {
  "kernelspec": {
   "display_name": "Python 3 (ipykernel)",
   "language": "python",
   "name": "python3"
  },
  "language_info": {
   "codemirror_mode": {
    "name": "ipython",
    "version": 3
   },
   "file_extension": ".py",
   "mimetype": "text/x-python",
   "name": "python",
   "nbconvert_exporter": "python",
   "pygments_lexer": "ipython3",
   "version": "3.10.8"
  }
 },
 "nbformat": 4,
 "nbformat_minor": 5
}
