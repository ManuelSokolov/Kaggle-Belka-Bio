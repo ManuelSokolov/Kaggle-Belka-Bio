{
 "cells": [
  {
   "cell_type": "code",
   "execution_count": 1,
   "id": "105ec0ae-09eb-4b13-bc52-1684ebae4313",
   "metadata": {
    "tags": []
   },
   "outputs": [],
   "source": [
    "from datamodule import EmbeddingsDataset"
   ]
  },
  {
   "cell_type": "code",
   "execution_count": 4,
   "id": "a6e87c75-7b55-44fb-b84e-754c6f8af490",
   "metadata": {
    "tags": []
   },
   "outputs": [],
   "source": [
    "a = EmbeddingsDataset(dataset_file=\"/home/ec2-user/SageMaker/dataset/train_subsampled_50_50.parquet\",stage=\"train\")"
   ]
  },
  {
   "cell_type": "code",
   "execution_count": 7,
   "id": "94e08508-a31d-447e-91cc-672449b78381",
   "metadata": {
    "tags": []
   },
   "outputs": [
    {
     "data": {
      "text/plain": [
       "torch.Size([64, 768])"
      ]
     },
     "execution_count": 7,
     "metadata": {},
     "output_type": "execute_result"
    }
   ],
   "source": [
    "a.__getitem__(1)[\"embeddings\"].shape"
   ]
  },
  {
   "cell_type": "code",
   "execution_count": null,
   "id": "1fbddbb0-d915-4ba5-833c-524f248e23dd",
   "metadata": {},
   "outputs": [],
   "source": []
  }
 ],
 "metadata": {
  "kernelspec": {
   "display_name": "conda_tensorflow2_p310",
   "language": "python",
   "name": "conda_tensorflow2_p310"
  },
  "language_info": {
   "codemirror_mode": {
    "name": "ipython",
    "version": 3
   },
   "file_extension": ".py",
   "mimetype": "text/x-python",
   "name": "python",
   "nbconvert_exporter": "python",
   "pygments_lexer": "ipython3",
   "version": "3.10.14"
  }
 },
 "nbformat": 4,
 "nbformat_minor": 5
}
